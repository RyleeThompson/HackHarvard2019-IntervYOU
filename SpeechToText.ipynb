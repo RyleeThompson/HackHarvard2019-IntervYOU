{
 "cells": [
  {
   "cell_type": "code",
   "execution_count": 1,
   "metadata": {},
   "outputs": [],
   "source": [
    "import io\n",
    "import os\n",
    "\n",
    "# Imports the Google Cloud client library\n",
    "from google.cloud import speech\n",
    "from google.cloud.speech import enums\n",
    "from google.cloud.speech import types"
   ]
  },
  {
   "cell_type": "code",
   "execution_count": 2,
   "metadata": {},
   "outputs": [],
   "source": [
    "os.environ[\"GOOGLE_APPLICATION_CREDENTIALS\"] = r\"C:\\Users\\rylee\\GCloud\\Path.json\""
   ]
  },
  {
   "cell_type": "code",
   "execution_count": 3,
   "metadata": {},
   "outputs": [],
   "source": [
    "# Instantiates a client\n",
    "client = speech.SpeechClient()\n",
    "\n",
    "# The name of the audio file to transcribe\n",
    "file_name = os.path.join(\n",
    "    os.getcwd(),\n",
    "    'harvard123.flac')\n",
    "\n",
    "# Loads the audio into memory\n",
    "with io.open(file_name, 'rb') as audio_file:\n",
    "    content = audio_file.read()\n",
    "    audio = types.RecognitionAudio(content=content)\n",
    "\n",
    "config = types.RecognitionConfig(\n",
    "    encoding=enums.RecognitionConfig.AudioEncoding.FLAC,\n",
    "    audio_channel_count = 2,\n",
    "    language_code='en-US')\n",
    "\n",
    "# Detects speech in the audio file\n",
    "response = client.recognize(config, audio)\n",
    "\n",
    "for result in response.results:\n",
    "    print('Transcript: {}'.format(result.alternatives[0].transcript))"
   ]
  },
  {
   "cell_type": "code",
   "execution_count": 7,
   "metadata": {},
   "outputs": [],
   "source": [
    "from pydub import AudioSegment\n",
    "audio = AudioSegment.from_file('test.flac')"
   ]
  },
  {
   "cell_type": "code",
   "execution_count": 8,
   "metadata": {},
   "outputs": [
    {
     "data": {
      "text/plain": [
       "<_io.BufferedRandom name='C:\\\\Users\\\\rylee\\\\Jupyter notebooks\\\\HackHarvardGCloud\\\\harvard123.flac'>"
      ]
     },
     "execution_count": 8,
     "metadata": {},
     "output_type": "execute_result"
    }
   ],
   "source": [
    "audio.export(os.getcwd() + '\\harvard123.flac', format = 'flac')"
   ]
  },
  {
   "cell_type": "code",
   "execution_count": 16,
   "metadata": {},
   "outputs": [],
   "source": [
    "import wave\n",
    "import pyaudio\n",
    "def getAudioInput(outputFile, CHUNK = 512, FORMAT = pyaudio.paInt16, CHANNELS = 2, RATE = 48000, RECORD_SECONDS = 1):\n",
    "    p = pyaudio.PyAudio()\n",
    "\n",
    "    stream = p.open(format=FORMAT,\n",
    "                    channels=CHANNELS,\n",
    "                    rate=RATE,\n",
    "                    input=True,\n",
    "                    frames_per_buffer=CHUNK)\n",
    "\n",
    "    print(\"* recording\")\n",
    "\n",
    "    frames = []\n",
    "\n",
    "    for j in range(0, int(RATE / CHUNK * RECORD_SECONDS)):\n",
    "        data = stream.read(CHUNK)\n",
    "        frames.append(data)\n",
    "\n",
    "    print(\"* done recording\")\n",
    "\n",
    "    stream.stop_stream()\n",
    "    stream.close()\n",
    "    p.terminate()\n",
    "\n",
    "    wf = wave.open(outputFile, 'wb')\n",
    "    wf.setnchannels(CHANNELS)\n",
    "    wf.setsampwidth(p.get_sample_size(FORMAT))\n",
    "    wf.setframerate(RATE)\n",
    "    wf.writeframes(b''.join(frames))\n",
    "    wf.close()"
   ]
  },
  {
   "cell_type": "code",
   "execution_count": 17,
   "metadata": {},
   "outputs": [
    {
     "name": "stdout",
     "output_type": "stream",
     "text": [
      "* recording\n",
      "* done recording\n"
     ]
    }
   ],
   "source": [
    "getAudioInput('poo2.flac', RECORD_SECONDS = 5)"
   ]
  },
  {
   "cell_type": "code",
   "execution_count": 76,
   "metadata": {},
   "outputs": [
    {
     "name": "stdout",
     "output_type": "stream",
     "text": [
      "* recording\n",
      "* done recording\n",
      "* recording\n",
      "* done recording\n",
      "* recording\n",
      "* done recording\n",
      "* recording\n",
      "* done recording\n",
      "* recording\n",
      "* done recording\n"
     ]
    }
   ],
   "source": [
    "for i in range(5):\n",
    "    getAudioInput('test' + str(i) + '.flac')"
   ]
  },
  {
   "cell_type": "code",
   "execution_count": null,
   "metadata": {},
   "outputs": [],
   "source": [
    "pyaudio."
   ]
  },
  {
   "cell_type": "code",
   "execution_count": 81,
   "metadata": {},
   "outputs": [
    {
     "data": {
      "text/plain": [
       "<_io.BufferedRandom name='C:\\\\Users\\\\rylee\\\\Jupyter notebooks\\\\HackHarvardGCloud\\\\poo.flac'>"
      ]
     },
     "execution_count": 81,
     "metadata": {},
     "output_type": "execute_result"
    }
   ],
   "source": [
    "audio3 = AudioSegment.from_file('test0.flac')\n",
    "for i in range(1, 5):\n",
    "    audio2 = AudioSegment.from_file('test' + str(i) + '.flac')\n",
    "    audio3 = audio3.append(audio2)\n",
    "audio3.export(os.getcwd() + '\\poo.flac', format = 'flac')"
   ]
  },
  {
   "cell_type": "code",
   "execution_count": 77,
   "metadata": {},
   "outputs": [
    {
     "name": "stdout",
     "output_type": "stream",
     "text": [
      "Audio content written to file \"output.mp3\"\n"
     ]
    }
   ],
   "source": [
    "\"\"\"Synthesizes speech from the input string of text or ssml.\n",
    "\n",
    "Note: ssml must be well-formed according to:\n",
    "    https://www.w3.org/TR/speech-synthesis/\n",
    "\"\"\"\n",
    "from google.cloud import texttospeech\n",
    "\n",
    "# Instantiates a client\n",
    "client = texttospeech.TextToSpeechClient()\n",
    "\n",
    "# Set the text input to be synthesized\n",
    "synthesis_input = texttospeech.types.SynthesisInput(text=\"Can you tell me more about your experience at Denso??\")\n",
    "\n",
    "# Build the voice request, select the language code (\"en-US\") and the ssml\n",
    "# voice gender (\"neutral\")\n",
    "voice = texttospeech.types.VoiceSelectionParams(\n",
    "    language_code='en-US',\n",
    "    ssml_gender=texttospeech.enums.SsmlVoiceGender.NEUTRAL)\n",
    "\n",
    "# Select the type of audio file you want returned\n",
    "audio_config = texttospeech.types.AudioConfig(\n",
    "    audio_encoding=texttospeech.enums.AudioEncoding.MP3)\n",
    "\n",
    "# Perform the text-to-speech request on the text input with the selected\n",
    "# voice parameters and audio file type\n",
    "response = client.synthesize_speech(synthesis_input, voice, audio_config)\n",
    "\n",
    "# The response's audio_content is binary.\n",
    "with open('output.mp3', 'wb') as out:\n",
    "    # Write the response to the output file.\n",
    "    out.write(response.audio_content)\n",
    "    print('Audio content written to file \"output.mp3\"')"
   ]
  },
  {
   "cell_type": "code",
   "execution_count": 30,
   "metadata": {},
   "outputs": [
    {
     "name": "stdout",
     "output_type": "stream",
     "text": [
      "Help on function get_array_of_samples in module pydub.audio_segment:\n",
      "\n",
      "get_array_of_samples(self, array_type_override=None)\n",
      "    returns the raw_data as an array of samples\n",
      "\n"
     ]
    }
   ],
   "source": [
    "help(AudioSegment.get_array_of_samples)"
   ]
  },
  {
   "cell_type": "code",
   "execution_count": 63,
   "metadata": {},
   "outputs": [],
   "source": [
    "x = audio.get_array_of_samples()"
   ]
  },
  {
   "cell_type": "code",
   "execution_count": 64,
   "metadata": {},
   "outputs": [
    {
     "data": {
      "text/plain": [
       "array([  0,   0,  -1, ..., -29,   2,   2], dtype=int16)"
      ]
     },
     "execution_count": 64,
     "metadata": {},
     "output_type": "execute_result"
    }
   ],
   "source": [
    "import numpy as np\n",
    "np.array(x)"
   ]
  },
  {
   "cell_type": "code",
   "execution_count": 65,
   "metadata": {},
   "outputs": [
    {
     "data": {
      "text/plain": [
       "-0.004337754360465116"
      ]
     },
     "execution_count": 65,
     "metadata": {},
     "output_type": "execute_result"
    }
   ],
   "source": [
    "np.mean(x)"
   ]
  },
  {
   "cell_type": "code",
   "execution_count": 66,
   "metadata": {},
   "outputs": [
    {
     "data": {
      "text/plain": [
       "440320"
      ]
     },
     "execution_count": 66,
     "metadata": {},
     "output_type": "execute_result"
    }
   ],
   "source": [
    "import matplotlib.pyplot as plt\n",
    "len(x)"
   ]
  },
  {
   "cell_type": "code",
   "execution_count": 67,
   "metadata": {},
   "outputs": [
    {
     "data": {
      "text/plain": [
       "-455"
      ]
     },
     "execution_count": 67,
     "metadata": {},
     "output_type": "execute_result"
    }
   ],
   "source": [
    "np.amin(x)"
   ]
  },
  {
   "cell_type": "code",
   "execution_count": 68,
   "metadata": {},
   "outputs": [
    {
     "data": {
      "text/plain": [
       "[<matplotlib.lines.Line2D at 0x23789f749e8>]"
      ]
     },
     "execution_count": 68,
     "metadata": {},
     "output_type": "execute_result"
    },
    {
     "data": {
      "image/png": "[encoded data removed]",
      "text/plain": [
       "<Figure size 432x288 with 1 Axes>"
      ]
     },
     "metadata": {
      "needs_background": "light"
     },
     "output_type": "display_data"
    }
   ],
   "source": [
    "plt.plot(x)"
   ]
  },
  {
   "cell_type": "code",
   "execution_count": 18,
   "metadata": {},
   "outputs": [
    {
     "name": "stdout",
     "output_type": "stream",
     "text": [
      "1600\n",
      "\u001b[0;33m\n",
      "Listening, say \"Quit\" or \"Exit\" to stop.\n",
      "\n",
      "End (ms)       Transcript Results/Status\n",
      "=====================================================\n",
      "\u001b[0;33m\n",
      "0: NEW REQUEST\n",
      "\u001b[0;31m\u001b[K7650: I meanre you\n",
      "\u001b[0;33m\n",
      "10000: NEW REQUEST\n",
      "\u001b[0;32m\u001b[K17440: I'm not I'm not goinggo\u001b[K17920: I'm not I'm not going\n",
      "\u001b[0;31m\u001b[K25190:  it's fucking Shasta\n",
      "\u001b[0;33m\n",
      "20000: NEW REQUEST\n",
      "\u001b[0;32m\u001b[K21865: sister\n",
      "\u001b[0;31m\u001b[K27995:  said something\n",
      "\u001b[0;33m\n",
      "30000: NEW REQUEST\n",
      "\u001b[0;32m\u001b[K55061: I looked right into my phone first cuz I wasn't trying to get away round now\n",
      "\u001b[0;33m\n",
      "40000: NEW REQUEST\n",
      "\u001b[0;32m\u001b[K64004: Wake County\n",
      "\u001b[0;33m\n",
      "50000: NEW REQUEST\n",
      "\u001b[0;32m\u001b[K52050: gladion you\n",
      "\u001b[0;32m\u001b[K58650:  line of credit\n",
      "\u001b[0;33m\n",
      "60000: NEW REQUEST\n",
      "\u001b[0;32m\u001b[K61554: wrong with\n",
      "\u001b[0;32m\u001b[K68364:  argument research for love\n",
      "\u001b[0;33m\n",
      "70000: NEW REQUEST\n",
      "\u001b[0;31m\u001b[K71017: you know even though\n",
      "\u001b[0;33m\n",
      "80000: NEW REQUEST\n",
      "\u001b[0;32m\u001b[K88196: free launcher\n",
      "\u001b[0;31m\u001b[K93076:  good night\n",
      "\u001b[0;33m\n",
      "90000: NEW REQUEST\n",
      "\u001b[0;32m\u001b[K90678: Nuketown in the combinationn\n",
      "\u001b[0;33m\n",
      "100000: NEW REQUEST\n",
      "\u001b[0;31m\u001b[K134435: remindt\n",
      "\u001b[0;33m\n",
      "110000: NEW REQUEST\n",
      "\u001b[0;32m\u001b[K102010: I had to do some Keto\u001b[K101200: had to do some Keto\n",
      "\u001b[0;32m\u001b[K116790:  I need the number for phoe\n",
      "\u001b[0;33m\n",
      "120000: NEW REQUEST\n",
      "\u001b[0;32m\u001b[K122853: yeah I'm going to send you a link\n",
      "\u001b[0;33m\n",
      "130000: NEW REQUEST\n",
      "\u001b[0;31m\u001b[K131301: next New Year's\n",
      "\u001b[0;33m\n",
      "140000: NEW REQUEST\n",
      "\n",
      "\u001b[0;33m\n",
      "150000: NEW REQUEST\n",
      "\u001b[0;32m\u001b[K198070: bro I have to fix this shit\n",
      "\u001b[0;33m\n",
      "160000: NEW REQUEST\n",
      "\u001b[0;32m\u001b[K207128: leadershiphirt\n",
      "\u001b[0;33m\n",
      "170000: NEW REQUEST\n",
      "\u001b[0;32m\u001b[K171716: Texas\n",
      "\u001b[0;32m\u001b[K174786:  Craigslist\n",
      "\u001b[0;31m\u001b[K180966:  I'm trying to tell her to take that\n",
      "\u001b[0;33m\n",
      "180000: NEW REQUEST\n",
      "\u001b[0;32m\u001b[K186527: quitnste television\n",
      "\u001b[0;33mExiting...\n"
     ]
    }
   ],
   "source": [
    "#!/usr/bin/env python\n",
    "\n",
    "# Copyright 2019 Google LLC\n",
    "#\n",
    "# Licensed under the Apache License, Version 2.0 (the \"License\");\n",
    "# you may not use this file except in compliance with the License.\n",
    "# You may obtain a copy of the License at\n",
    "#\n",
    "#      http://www.apache.org/licenses/LICENSE-2.0\n",
    "#\n",
    "# Unless required by applicable law or agreed to in writing, software\n",
    "# distributed under the License is distributed on an \"AS IS\" BASIS,\n",
    "# WITHOUT WARRANTIES OR CONDITIONS OF ANY KIND, either express or implied.\n",
    "# See the License for the specific language governing permissions and\n",
    "# limitations under the License.\n",
    "\n",
    "\"\"\"Google Cloud Speech API sample application using the streaming API.\n",
    "NOTE: This module requires the dependencies `pyaudio` and `termcolor`.\n",
    "To install using pip:\n",
    "    pip install pyaudio\n",
    "    pip install termcolor\n",
    "Example usage:\n",
    "    python transcribe_streaming_infinite.py\n",
    "\"\"\"\n",
    "\n",
    "# [START speech_transcribe_infinite_streaming]\n",
    "\n",
    "import time\n",
    "import re\n",
    "import sys\n",
    "\n",
    "# uses result_end_time currently only avaialble in v1p1beta, will be in v1 soon\n",
    "from google.cloud import speech_v1p1beta1 as speech\n",
    "import pyaudio\n",
    "from six.moves import queue\n",
    "\n",
    "# Audio recording parameters\n",
    "STREAMING_LIMIT = 10000\n",
    "SAMPLE_RATE = 16000\n",
    "CHUNK_SIZE = int(SAMPLE_RATE / 10)  # 100ms\n",
    "\n",
    "RED = '\\033[0;31m'\n",
    "GREEN = '\\033[0;32m'\n",
    "YELLOW = '\\033[0;33m'\n",
    "\n",
    "\n",
    "def get_current_time():\n",
    "    \"\"\"Return Current Time in MS.\"\"\"\n",
    "\n",
    "    return int(round(time.time() * 1000))\n",
    "\n",
    "\n",
    "class ResumableMicrophoneStream:\n",
    "    \"\"\"Opens a recording stream as a generator yielding the audio chunks.\"\"\"\n",
    "\n",
    "    def __init__(self, rate, chunk_size):\n",
    "        self._rate = rate\n",
    "        self.chunk_size = chunk_size\n",
    "        self._num_channels = 1\n",
    "        self._buff = queue.Queue()\n",
    "        self.closed = True\n",
    "        self.start_time = get_current_time()\n",
    "        self.restart_counter = 0\n",
    "        self.audio_input = []\n",
    "        self.last_audio_input = []\n",
    "        self.result_end_time = 0\n",
    "        self.is_final_end_time = 0\n",
    "        self.final_request_end_time = 0\n",
    "        self.bridging_offset = 0\n",
    "        self.last_transcript_was_final = False\n",
    "        self.new_stream = True\n",
    "        self._audio_interface = pyaudio.PyAudio()\n",
    "        self._audio_stream = self._audio_interface.open(\n",
    "            format=pyaudio.paInt16,\n",
    "            channels=self._num_channels,\n",
    "            rate=self._rate,\n",
    "            input=True,\n",
    "            frames_per_buffer=self.chunk_size,\n",
    "            # Run the audio stream asynchronously to fill the buffer object.\n",
    "            # This is necessary so that the input device's buffer doesn't\n",
    "            # overflow while the calling thread makes network requests, etc.\n",
    "            stream_callback=self._fill_buffer,\n",
    "        )\n",
    "\n",
    "    def __enter__(self):\n",
    "\n",
    "        self.closed = False\n",
    "        return self\n",
    "\n",
    "    def __exit__(self, type, value, traceback):\n",
    "\n",
    "        self._audio_stream.stop_stream()\n",
    "        self._audio_stream.close()\n",
    "        self.closed = True\n",
    "        # Signal the generator to terminate so that the client's\n",
    "        # streaming_recognize method will not block the process termination.\n",
    "        self._buff.put(None)\n",
    "        self._audio_interface.terminate()\n",
    "\n",
    "    def _fill_buffer(self, in_data, *args, **kwargs):\n",
    "        \"\"\"Continuously collect data from the audio stream, into the buffer.\"\"\"\n",
    "\n",
    "        self._buff.put(in_data)\n",
    "        return None, pyaudio.paContinue\n",
    "\n",
    "    def generator(self):\n",
    "        \"\"\"Stream Audio from microphone to API and to local buffer\"\"\"\n",
    "\n",
    "        while not self.closed:\n",
    "            data = []\n",
    "\n",
    "            if self.new_stream and self.last_audio_input:\n",
    "\n",
    "                chunk_time = STREAMING_LIMIT / len(self.last_audio_input)\n",
    "\n",
    "                if chunk_time != 0:\n",
    "\n",
    "                    if self.bridging_offset < 0:\n",
    "                        self.bridging_offset = 0\n",
    "\n",
    "                    if self.bridging_offset > self.final_request_end_time:\n",
    "                        self.bridging_offset = self.final_request_end_time\n",
    "\n",
    "                    chunks_from_ms = round((self.final_request_end_time -\n",
    "                                            self.bridging_offset) / chunk_time)\n",
    "\n",
    "                    self.bridging_offset = (round((\n",
    "                        len(self.last_audio_input) - chunks_from_ms)\n",
    "                                                  * chunk_time))\n",
    "\n",
    "                    for i in range(chunks_from_ms, len(self.last_audio_input)):\n",
    "                        data.append(self.last_audio_input[i])\n",
    "\n",
    "                self.new_stream = False\n",
    "\n",
    "            # Use a blocking get() to ensure there's at least one chunk of\n",
    "            # data, and stop iteration if the chunk is None, indicating the\n",
    "            # end of the audio stream.\n",
    "            chunk = self._buff.get()\n",
    "            self.audio_input.append(chunk)\n",
    "\n",
    "            if chunk is None:\n",
    "                return\n",
    "            data.append(chunk)\n",
    "            # Now consume whatever other data's still buffered.\n",
    "            while True:\n",
    "                try:\n",
    "                    chunk = self._buff.get(block=False)\n",
    "\n",
    "                    if chunk is None:\n",
    "                        return\n",
    "                    data.append(chunk)\n",
    "                    self.audio_input.append(chunk)\n",
    "\n",
    "                except queue.Empty:\n",
    "                    break\n",
    "\n",
    "            yield b''.join(data)\n",
    "\n",
    "\n",
    "def listen_print_loop(responses, stream):\n",
    "    \"\"\"Iterates through server responses and prints them.\n",
    "    The responses passed is a generator that will block until a response\n",
    "    is provided by the server.\n",
    "    Each response may contain multiple results, and each result may contain\n",
    "    multiple alternatives; for details, see https://goo.gl/tjCPAU.  Here we\n",
    "    print only the transcription for the top alternative of the top result.\n",
    "    In this case, responses are provided for interim results as well. If the\n",
    "    response is an interim one, print a line feed at the end of it, to allow\n",
    "    the next result to overwrite it, until the response is a final one. For the\n",
    "    final one, print a newline to preserve the finalized transcription.\n",
    "    \"\"\"\n",
    "\n",
    "    for response in responses:\n",
    "\n",
    "        if get_current_time() - stream.start_time > STREAMING_LIMIT:\n",
    "            stream.start_time = get_current_time()\n",
    "            break\n",
    "\n",
    "        if not response.results:\n",
    "            continue\n",
    "\n",
    "        result = response.results[0]\n",
    "\n",
    "        if not result.alternatives:\n",
    "            continue\n",
    "\n",
    "        transcript = result.alternatives[0].transcript\n",
    "\n",
    "        result_seconds = 0\n",
    "        result_nanos = 0\n",
    "\n",
    "        if result.result_end_time.seconds:\n",
    "            result_seconds = result.result_end_time.seconds\n",
    "\n",
    "        if result.result_end_time.nanos:\n",
    "            result_nanos = result.result_end_time.nanos\n",
    "\n",
    "        stream.result_end_time = int((result_seconds * 1000)\n",
    "                                     + (result_nanos / 1000000))\n",
    "\n",
    "        corrected_time = (stream.result_end_time - stream.bridging_offset\n",
    "                          + (STREAMING_LIMIT * stream.restart_counter))\n",
    "        # Display interim results, but with a carriage return at the end of the\n",
    "        # line, so subsequent lines will overwrite them.\n",
    "\n",
    "        if result.is_final:\n",
    "\n",
    "            sys.stdout.write(GREEN)\n",
    "            sys.stdout.write('\\033[K')\n",
    "            sys.stdout.write(str(corrected_time) + ': ' + transcript + '\\n')\n",
    "\n",
    "            stream.is_final_end_time = stream.result_end_time\n",
    "            stream.last_transcript_was_final = True\n",
    "\n",
    "            # Exit recognition if any of the transcribed phrases could be\n",
    "            # one of our keywords.\n",
    "            if re.search(r'\\b(exit|quit)\\b', transcript, re.I):\n",
    "                sys.stdout.write(YELLOW)\n",
    "                sys.stdout.write('Exiting...\\n')\n",
    "                stream.closed = True\n",
    "                break\n",
    "\n",
    "        else:\n",
    "            sys.stdout.write(RED)\n",
    "            sys.stdout.write('\\033[K')\n",
    "            sys.stdout.write(str(corrected_time) + ': ' + transcript + '\\r')\n",
    "\n",
    "            stream.last_transcript_was_final = False\n",
    "\n",
    "\n",
    "def main():\n",
    "    \"\"\"start bidirectional streaming from microphone input to speech API\"\"\"\n",
    "\n",
    "    client = speech.SpeechClient()\n",
    "    config = speech.types.RecognitionConfig(\n",
    "        encoding=speech.enums.RecognitionConfig.AudioEncoding.LINEAR16,\n",
    "        sample_rate_hertz=SAMPLE_RATE,\n",
    "        language_code='en-US',\n",
    "        max_alternatives=1)\n",
    "    streaming_config = speech.types.StreamingRecognitionConfig(\n",
    "        config=config,\n",
    "        interim_results=True)\n",
    "\n",
    "    mic_manager = ResumableMicrophoneStream(SAMPLE_RATE, CHUNK_SIZE)\n",
    "    print(mic_manager.chunk_size)\n",
    "    sys.stdout.write(YELLOW)\n",
    "    sys.stdout.write('\\nListening, say \"Quit\" or \"Exit\" to stop.\\n\\n')\n",
    "    sys.stdout.write('End (ms)       Transcript Results/Status\\n')\n",
    "    sys.stdout.write('=====================================================\\n')\n",
    "\n",
    "    with mic_manager as stream:\n",
    "\n",
    "        while not stream.closed:\n",
    "            sys.stdout.write(YELLOW)\n",
    "            sys.stdout.write('\\n' + str(\n",
    "                STREAMING_LIMIT * stream.restart_counter) + ': NEW REQUEST\\n')\n",
    "\n",
    "            stream.audio_input = []\n",
    "            audio_generator = stream.generator()\n",
    "\n",
    "            requests = (speech.types.StreamingRecognizeRequest(\n",
    "                audio_content=content)for content in audio_generator)\n",
    "\n",
    "            responses = client.streaming_recognize(streaming_config,\n",
    "                                                   requests)\n",
    "\n",
    "            # Now, put the transcription responses to use.\n",
    "            listen_print_loop(responses, stream)\n",
    "\n",
    "            if stream.result_end_time > 0:\n",
    "                stream.final_request_end_time = stream.is_final_end_time\n",
    "            stream.result_end_time = 0\n",
    "            stream.last_audio_input = []\n",
    "            stream.last_audio_input = stream.audio_input\n",
    "            stream.audio_input = []\n",
    "            stream.restart_counter = stream.restart_counter + 1\n",
    "\n",
    "            if not stream.last_transcript_was_final:\n",
    "                sys.stdout.write('\\n')\n",
    "            stream.new_stream = True\n",
    "\n",
    "main()"
   ]
  },
  {
   "cell_type": "code",
   "execution_count": null,
   "metadata": {},
   "outputs": [],
   "source": []
  }
 ],
 "metadata": {
  "kernelspec": {
   "display_name": "Python 3",
   "language": "python",
   "name": "python3"
  },
  "language_info": {
   "codemirror_mode": {
    "name": "ipython",
    "version": 3
   },
   "file_extension": ".py",
   "mimetype": "text/x-python",
   "name": "python",
   "nbconvert_exporter": "python",
   "pygments_lexer": "ipython3",
   "version": "3.7.1"
  }
 },
 "nbformat": 4,
 "nbformat_minor": 4
}
