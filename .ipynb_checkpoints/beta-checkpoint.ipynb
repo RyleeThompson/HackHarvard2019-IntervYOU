{
 "cells": [
  {
   "cell_type": "code",
   "execution_count": 62,
   "metadata": {},
   "outputs": [],
   "source": [
    "# import relevant libraries\n",
    "import os\n",
    "import inflect\n",
    "import numpy as np\n",
    "os.environ[\"GOOGLE_APPLICATION_CREDENTIALS\"] = r\"C:\\Users\\User\\Documents\\HackHarvard\\file.json\""
   ]
  },
  {
   "cell_type": "code",
   "execution_count": 63,
   "metadata": {},
   "outputs": [],
   "source": [
    "# Imports the Google Cloud client library\n",
    "from google.cloud import language\n",
    "from google.cloud.language import enums\n",
    "from google.cloud.language import types"
   ]
  },
  {
   "cell_type": "code",
   "execution_count": 64,
   "metadata": {},
   "outputs": [],
   "source": [
    "# Instantiates a client\n",
    "client = language.LanguageServiceClient()\n",
    "#path = r\"C:\\Users\\User\\Documents\\HackHarvard\\interviewTranscript\""
   ]
  },
  {
   "cell_type": "code",
   "execution_count": 65,
   "metadata": {},
   "outputs": [],
   "source": [
    "# Loading in all text files from a target directory\n",
    "def textScraper(path):\n",
    "    text = []\n",
    "\n",
    "    for file in os.listdir(path):\n",
    "        if file.endswith(\".txt\"):\n",
    "            temp = os.path.join(path,file)\n",
    "            text.append(temp)\n",
    "    return(text)"
   ]
  },
  {
   "cell_type": "code",
   "execution_count": 66,
   "metadata": {},
   "outputs": [],
   "source": [
    "# Convert quantitative metrics to user friendly feedback strings\n",
    "def scoreTransform(score):\n",
    "    if score >0.8: \n",
    "        scoreEval = \"This was a very positive response\\n\"\n",
    "    elif score >0.4:\n",
    "        scoreEval = \"This was a positive response\\n\"\n",
    "    elif score >0:\n",
    "        scoreEval = \"This was a somewhat positive response\\n\"\n",
    "    elif score ==0: \n",
    "        scoreEval = \"This is a neutral response\\n\"\n",
    "    elif score <-0.6:\n",
    "        scoreEval = \"This is a very negative response\\n\"\n",
    "    else:\n",
    "        scoreEval = \"This was a negative response\\n\"\n",
    "    \n",
    "    return scoreEval"
   ]
  },
  {
   "cell_type": "code",
   "execution_count": 67,
   "metadata": {},
   "outputs": [],
   "source": [
    "def nRatioTransform(nRatio):\n",
    "    print(\"Your responses contained {:.0%} negative bias words.\".format(nRatio))\n",
    "    if nRatio <.001: \n",
    "        nRatioEval = \"Your responses contained negligible amounts of negative bias words\"\n",
    "    elif nRatio <.1:\n",
    "        nRatioEval = \"Your responses contained an acceptable amount of negative bias words.\"\n",
    "    elif nRatio <.2:\n",
    "        nRatioEval = \"Please reconsider the use of the following word choices:\" \n",
    "    else:\n",
    "        nRatioEval = \"The following words/phrase will have a negative impact during the interview environment:\"\n",
    "    \n",
    "    return nRatioEval"
   ]
  },
  {
   "cell_type": "code",
   "execution_count": 68,
   "metadata": {},
   "outputs": [],
   "source": [
    "# Sentimental Analysis of each response via Google Cloud NLP method \n",
    "def sentimentAnalysis(text):\n",
    "    p = inflect.engine()\n",
    "    sentimentContainer = []\n",
    "    respList = []\n",
    "    for i in range(len(text)):\n",
    "        document = types.Document( \n",
    "        content = open(text[i],\"r\").read(),\n",
    "        type = enums.Document.Type.PLAIN_TEXT)\n",
    "        \n",
    "        sentiment = client.analyze_sentiment(document=document).document_sentiment\n",
    "        sentimentContainer.append(sentiment.score)\n",
    "        \n",
    "        tempStr = open(text[i],\"r\").read()\n",
    "        respList.append(tempStr)\n",
    "        \n",
    "        y = i + 1\n",
    "        print('Your {} response produced the following score'.format(p.ordinal(y)))\n",
    "        print('Sentiment: {}, {}'.format(sentiment.score, sentiment.magnitude))\n",
    "        \n",
    "        qualScore = scoreTransform(sentiment.score)\n",
    "        #qualMag = magTransform(sentiment.magnitude)\n",
    "        print(qualScore)\n",
    "        \n",
    "    return respList, sentimentContainer, qualScore"
   ]
  },
  {
   "cell_type": "code",
   "execution_count": 69,
   "metadata": {},
   "outputs": [],
   "source": [
    "#Counts the frequency of target words from a text database within user response\n",
    "def entityCount(response,entity):\n",
    "    tempResponse = ','.join(response)\n",
    "    if entity =='':\n",
    "        instances = 0;\n",
    "    else:\n",
    "        instances = tempResponse.count(entity)\n",
    "    return instances"
   ]
  },
  {
   "cell_type": "code",
   "execution_count": 70,
   "metadata": {},
   "outputs": [],
   "source": [
    "def main():  \n",
    "    \n",
    "    positive = ['research','best','attention','effort']\n",
    "    negative = open(r\"C:\\Users\\User\\Documents\\HackHarvard\\4289441-dad8b64b307cd6df8068a379079becbb3f91101a/negative-words.txt\",\"r\").read().split('\\n')\n",
    "    pContainer = []\n",
    "    pHold = []\n",
    "    nContainer = []\n",
    "    nHold = []\n",
    "    strMaster = \"\"\n",
    "    listMaster = []\n",
    "\n",
    "    sentimentMaster = sentimentAnalysis(textScraper(r\"C:\\Users\\User\\Documents\\HackHarvard\\interviewTranscript\"))\n",
    "\n",
    "    for i in range(len(positive)):\n",
    "        pInstances = (entityCount(sentimentMaster[0],positive[i]))\n",
    "        pContainer.append(pInstances)\n",
    "        if pInstances != 0:\n",
    "            #print(\"The word <{}> was used {} times.\".format(positive[i],pInstances))\n",
    "            pHold.append(positive[i])\n",
    "    \n",
    "    for i in range(len(negative)):\n",
    "        nInstances = (entityCount(sentimentMaster[0],negative[i]))\n",
    "        nContainer.append(nInstances)\n",
    "        if nInstances !=0:\n",
    "            #print(\"The word <{}> was used {} times.\".format(negative[i],nInstances))\n",
    "            nHold.append(negative[i])\n",
    "\n",
    "    strMaster = ''.join(map(str,sentimentMaster[0]))\n",
    "    listMaster = list(strMaster.split(\" \"))\n",
    "    #print(np.argsort(nContainer))\n",
    "    #print(np.argsort(sentimentMaster[1]))\n",
    "    #print(sum(nContainer))\n",
    "    #print(listMaster)\n",
    "    #print(len(listMaster))\n",
    "    \n",
    "    nRatio = sum(nContainer)/len(listMaster)\n",
    "    \n",
    "    print(nRatioTransform(nRatio))\n",
    "    \n",
    "    if nRatio >.2:\n",
    "            print(\"{}\".format(nHold))\n",
    "\n",
    "    return\n"
   ]
  },
  {
   "cell_type": "code",
   "execution_count": 71,
   "metadata": {},
   "outputs": [
    {
     "name": "stdout",
     "output_type": "stream",
     "text": [
      "Your 1st response produced the following score\n",
      "Sentiment: 0.0, 1.899999976158142\n",
      "This is a neutral response\n",
      "\n",
      "Your 2nd response produced the following score\n",
      "Sentiment: 0.0, 1.2999999523162842\n",
      "This is a neutral response\n",
      "\n",
      "Your 3rd response produced the following score\n",
      "Sentiment: 0.30000001192092896, 1.100000023841858\n",
      "This was a somewhat positive response\n",
      "\n",
      "Your 4th response produced the following score\n",
      "Sentiment: 0.20000000298023224, 0.20000000298023224\n",
      "This was a somewhat positive response\n",
      "\n",
      "Your 5th response produced the following score\n",
      "Sentiment: 0.30000001192092896, 1.100000023841858\n",
      "This was a somewhat positive response\n",
      "\n",
      "Your 6th response produced the following score\n",
      "Sentiment: 0.0, 0.0\n",
      "This is a neutral response\n",
      "\n",
      "Your 7th response produced the following score\n",
      "Sentiment: 0.30000001192092896, 3.5999999046325684\n",
      "This was a somewhat positive response\n",
      "\n",
      "Your 8th response produced the following score\n",
      "Sentiment: -0.8999999761581421, 0.8999999761581421\n",
      "This is a very negative response\n",
      "\n",
      "Your responses contained 37% negative bias words.\n",
      "The following words/phrase will have a negative impact during the interview environment:\n",
      "['abnormal', 'abyss', 'dent', 'dents', 'hate', 'rough', 'sin', 'ugh']\n"
     ]
    }
   ],
   "source": [
    "main()"
   ]
  },
  {
   "cell_type": "code",
   "execution_count": null,
   "metadata": {},
   "outputs": [],
   "source": []
  },
  {
   "cell_type": "code",
   "execution_count": null,
   "metadata": {},
   "outputs": [],
   "source": []
  }
 ],
 "metadata": {
  "kernelspec": {
   "display_name": "Python 3",
   "language": "python",
   "name": "python3"
  },
  "language_info": {
   "codemirror_mode": {
    "name": "ipython",
    "version": 3
   },
   "file_extension": ".py",
   "mimetype": "text/x-python",
   "name": "python",
   "nbconvert_exporter": "python",
   "pygments_lexer": "ipython3",
   "version": "3.7.4"
  }
 },
 "nbformat": 4,
 "nbformat_minor": 4
}
